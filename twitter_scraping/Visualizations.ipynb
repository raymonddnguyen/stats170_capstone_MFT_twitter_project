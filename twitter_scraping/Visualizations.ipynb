{
 "cells": [
  {
   "cell_type": "code",
   "execution_count": 2,
   "metadata": {},
   "outputs": [],
   "source": [
    "import pandas as pd\n",
    "import matplotlib.pyplot as plt\n",
    "import numpy as np\n",
    "import seaborn as sns\n",
    "from collections import defaultdict\n",
    "import re\n",
    "from langdetect import detect"
   ]
  },
  {
   "cell_type": "code",
   "execution_count": 98,
   "metadata": {},
   "outputs": [],
   "source": [
    "tweets = pd.read_csv('sample.csv')\n",
    "account_validation = pd.read_csv('account_validation.csv')\n",
    "finalhandles = pd.read_csv('finalhandles.csv')\n",
    "scores = pd.read_csv('cleaned_scores.csv')"
   ]
  },
  {
   "cell_type": "code",
   "execution_count": 30,
   "metadata": {},
   "outputs": [
    {
     "data": {
      "text/html": [
       "<div>\n",
       "<style scoped>\n",
       "    .dataframe tbody tr th:only-of-type {\n",
       "        vertical-align: middle;\n",
       "    }\n",
       "\n",
       "    .dataframe tbody tr th {\n",
       "        vertical-align: top;\n",
       "    }\n",
       "\n",
       "    .dataframe thead th {\n",
       "        text-align: right;\n",
       "    }\n",
       "</style>\n",
       "<table border=\"1\" class=\"dataframe\">\n",
       "  <thead>\n",
       "    <tr style=\"text-align: right;\">\n",
       "      <th></th>\n",
       "      <th>handle</th>\n",
       "      <th>mtkid</th>\n",
       "      <th>listed_status</th>\n",
       "      <th>real_status</th>\n",
       "      <th>follower_range</th>\n",
       "      <th>actual_followers</th>\n",
       "      <th>isReal</th>\n",
       "      <th>tweet_count</th>\n",
       "    </tr>\n",
       "  </thead>\n",
       "  <tbody>\n",
       "    <tr>\n",
       "      <th>0</th>\n",
       "      <td>damnitmikki</td>\n",
       "      <td>A2QMHQXR8K4VJ2</td>\n",
       "      <td>Public</td>\n",
       "      <td>Public</td>\n",
       "      <td>200|300</td>\n",
       "      <td>2</td>\n",
       "      <td>False</td>\n",
       "      <td>28</td>\n",
       "    </tr>\n",
       "    <tr>\n",
       "      <th>1</th>\n",
       "      <td>Widow Lester</td>\n",
       "      <td>AFN5VMMGYPF1I</td>\n",
       "      <td>Public</td>\n",
       "      <td>NaN</td>\n",
       "      <td>NaN</td>\n",
       "      <td>-1</td>\n",
       "      <td>-1</td>\n",
       "      <td>-1</td>\n",
       "    </tr>\n",
       "    <tr>\n",
       "      <th>2</th>\n",
       "      <td>kaplan175</td>\n",
       "      <td>A3L0DCUXI7X3A9</td>\n",
       "      <td>Public</td>\n",
       "      <td>Public</td>\n",
       "      <td>0|100</td>\n",
       "      <td>1</td>\n",
       "      <td>True</td>\n",
       "      <td>2</td>\n",
       "    </tr>\n",
       "    <tr>\n",
       "      <th>3</th>\n",
       "      <td>EvilRussianBot</td>\n",
       "      <td>A3I40B0FATY8VH</td>\n",
       "      <td>Public</td>\n",
       "      <td>Public</td>\n",
       "      <td>0|100</td>\n",
       "      <td>37</td>\n",
       "      <td>True</td>\n",
       "      <td>1833</td>\n",
       "    </tr>\n",
       "    <tr>\n",
       "      <th>4</th>\n",
       "      <td>CtheFrood</td>\n",
       "      <td>A2MCRVU8I9VNHG</td>\n",
       "      <td>Public</td>\n",
       "      <td>Public</td>\n",
       "      <td>0|100</td>\n",
       "      <td>8</td>\n",
       "      <td>True</td>\n",
       "      <td>129</td>\n",
       "    </tr>\n",
       "  </tbody>\n",
       "</table>\n",
       "</div>"
      ],
      "text/plain": [
       "           handle           mtkid listed_status real_status follower_range  \\\n",
       "0     damnitmikki  A2QMHQXR8K4VJ2        Public      Public        200|300   \n",
       "1    Widow Lester   AFN5VMMGYPF1I        Public         NaN            NaN   \n",
       "2       kaplan175  A3L0DCUXI7X3A9        Public      Public          0|100   \n",
       "3  EvilRussianBot  A3I40B0FATY8VH        Public      Public          0|100   \n",
       "4       CtheFrood  A2MCRVU8I9VNHG        Public      Public          0|100   \n",
       "\n",
       "   actual_followers isReal  tweet_count  \n",
       "0                 2  False           28  \n",
       "1                -1     -1           -1  \n",
       "2                 1   True            2  \n",
       "3                37   True         1833  \n",
       "4                 8   True          129  "
      ]
     },
     "execution_count": 30,
     "metadata": {},
     "output_type": "execute_result"
    }
   ],
   "source": [
    "account_validation.head()"
   ]
  },
  {
   "cell_type": "code",
   "execution_count": 56,
   "metadata": {},
   "outputs": [
    {
     "data": {
      "text/html": [
       "<div>\n",
       "<style scoped>\n",
       "    .dataframe tbody tr th:only-of-type {\n",
       "        vertical-align: middle;\n",
       "    }\n",
       "\n",
       "    .dataframe tbody tr th {\n",
       "        vertical-align: top;\n",
       "    }\n",
       "\n",
       "    .dataframe thead th {\n",
       "        text-align: right;\n",
       "    }\n",
       "</style>\n",
       "<table border=\"1\" class=\"dataframe\">\n",
       "  <thead>\n",
       "    <tr style=\"text-align: right;\">\n",
       "      <th></th>\n",
       "      <th>handle</th>\n",
       "      <th>mtkid</th>\n",
       "      <th>real_status</th>\n",
       "      <th>follower_range</th>\n",
       "      <th>actual_followers</th>\n",
       "      <th>isReal</th>\n",
       "      <th>tweet_count</th>\n",
       "    </tr>\n",
       "    <tr>\n",
       "      <th>listed_status</th>\n",
       "      <th></th>\n",
       "      <th></th>\n",
       "      <th></th>\n",
       "      <th></th>\n",
       "      <th></th>\n",
       "      <th></th>\n",
       "      <th></th>\n",
       "    </tr>\n",
       "  </thead>\n",
       "  <tbody>\n",
       "    <tr>\n",
       "      <th>N/A (I do not have a Twitter account)</th>\n",
       "      <td>2</td>\n",
       "      <td>2</td>\n",
       "      <td>0</td>\n",
       "      <td>0</td>\n",
       "      <td>2</td>\n",
       "      <td>2</td>\n",
       "      <td>2</td>\n",
       "    </tr>\n",
       "    <tr>\n",
       "      <th>Private</th>\n",
       "      <td>64</td>\n",
       "      <td>64</td>\n",
       "      <td>54</td>\n",
       "      <td>54</td>\n",
       "      <td>64</td>\n",
       "      <td>48</td>\n",
       "      <td>64</td>\n",
       "    </tr>\n",
       "    <tr>\n",
       "      <th>Public</th>\n",
       "      <td>409</td>\n",
       "      <td>409</td>\n",
       "      <td>370</td>\n",
       "      <td>370</td>\n",
       "      <td>409</td>\n",
       "      <td>399</td>\n",
       "      <td>409</td>\n",
       "    </tr>\n",
       "  </tbody>\n",
       "</table>\n",
       "</div>"
      ],
      "text/plain": [
       "                                       handle  mtkid  real_status  \\\n",
       "listed_status                                                       \n",
       "N/A (I do not have a Twitter account)       2      2            0   \n",
       "Private                                    64     64           54   \n",
       "Public                                    409    409          370   \n",
       "\n",
       "                                       follower_range  actual_followers  \\\n",
       "listed_status                                                             \n",
       "N/A (I do not have a Twitter account)               0                 2   \n",
       "Private                                            54                64   \n",
       "Public                                            370               409   \n",
       "\n",
       "                                       isReal  tweet_count  \n",
       "listed_status                                               \n",
       "N/A (I do not have a Twitter account)       2            2  \n",
       "Private                                    48           64  \n",
       "Public                                    399          409  "
      ]
     },
     "execution_count": 56,
     "metadata": {},
     "output_type": "execute_result"
    }
   ],
   "source": [
    "account_validation.groupby('listed_status').count()"
   ]
  },
  {
   "cell_type": "code",
   "execution_count": 57,
   "metadata": {},
   "outputs": [
    {
     "data": {
      "text/html": [
       "<div>\n",
       "<style scoped>\n",
       "    .dataframe tbody tr th:only-of-type {\n",
       "        vertical-align: middle;\n",
       "    }\n",
       "\n",
       "    .dataframe tbody tr th {\n",
       "        vertical-align: top;\n",
       "    }\n",
       "\n",
       "    .dataframe thead th {\n",
       "        text-align: right;\n",
       "    }\n",
       "</style>\n",
       "<table border=\"1\" class=\"dataframe\">\n",
       "  <thead>\n",
       "    <tr style=\"text-align: right;\">\n",
       "      <th></th>\n",
       "      <th>handle</th>\n",
       "      <th>mtkid</th>\n",
       "      <th>listed_status</th>\n",
       "      <th>follower_range</th>\n",
       "      <th>actual_followers</th>\n",
       "      <th>isReal</th>\n",
       "      <th>tweet_count</th>\n",
       "    </tr>\n",
       "    <tr>\n",
       "      <th>real_status</th>\n",
       "      <th></th>\n",
       "      <th></th>\n",
       "      <th></th>\n",
       "      <th></th>\n",
       "      <th></th>\n",
       "      <th></th>\n",
       "      <th></th>\n",
       "    </tr>\n",
       "  </thead>\n",
       "  <tbody>\n",
       "    <tr>\n",
       "      <th>Private</th>\n",
       "      <td>26</td>\n",
       "      <td>26</td>\n",
       "      <td>26</td>\n",
       "      <td>26</td>\n",
       "      <td>26</td>\n",
       "      <td>0</td>\n",
       "      <td>26</td>\n",
       "    </tr>\n",
       "    <tr>\n",
       "      <th>Public</th>\n",
       "      <td>398</td>\n",
       "      <td>398</td>\n",
       "      <td>398</td>\n",
       "      <td>398</td>\n",
       "      <td>398</td>\n",
       "      <td>398</td>\n",
       "      <td>398</td>\n",
       "    </tr>\n",
       "  </tbody>\n",
       "</table>\n",
       "</div>"
      ],
      "text/plain": [
       "             handle  mtkid  listed_status  follower_range  actual_followers  \\\n",
       "real_status                                                                   \n",
       "Private          26     26             26              26                26   \n",
       "Public          398    398            398             398               398   \n",
       "\n",
       "             isReal  tweet_count  \n",
       "real_status                       \n",
       "Private           0           26  \n",
       "Public          398          398  "
      ]
     },
     "execution_count": 57,
     "metadata": {},
     "output_type": "execute_result"
    }
   ],
   "source": [
    "account_validation.groupby('real_status').count()"
   ]
  },
  {
   "cell_type": "code",
   "execution_count": 76,
   "metadata": {},
   "outputs": [
    {
     "data": {
      "text/html": [
       "<div>\n",
       "<style scoped>\n",
       "    .dataframe tbody tr th:only-of-type {\n",
       "        vertical-align: middle;\n",
       "    }\n",
       "\n",
       "    .dataframe tbody tr th {\n",
       "        vertical-align: top;\n",
       "    }\n",
       "\n",
       "    .dataframe thead th {\n",
       "        text-align: right;\n",
       "    }\n",
       "</style>\n",
       "<table border=\"1\" class=\"dataframe\">\n",
       "  <thead>\n",
       "    <tr style=\"text-align: right;\">\n",
       "      <th></th>\n",
       "      <th>handle</th>\n",
       "      <th>mtkid</th>\n",
       "      <th>listed_status</th>\n",
       "      <th>real_status</th>\n",
       "      <th>follower_range</th>\n",
       "      <th>actual_followers</th>\n",
       "      <th>tweet_count</th>\n",
       "    </tr>\n",
       "    <tr>\n",
       "      <th>isReal</th>\n",
       "      <th></th>\n",
       "      <th></th>\n",
       "      <th></th>\n",
       "      <th></th>\n",
       "      <th></th>\n",
       "      <th></th>\n",
       "      <th></th>\n",
       "    </tr>\n",
       "  </thead>\n",
       "  <tbody>\n",
       "    <tr>\n",
       "      <th>-1</th>\n",
       "      <td>51</td>\n",
       "      <td>51</td>\n",
       "      <td>51</td>\n",
       "      <td>0</td>\n",
       "      <td>0</td>\n",
       "      <td>51</td>\n",
       "      <td>51</td>\n",
       "    </tr>\n",
       "    <tr>\n",
       "      <th>False</th>\n",
       "      <td>57</td>\n",
       "      <td>57</td>\n",
       "      <td>57</td>\n",
       "      <td>57</td>\n",
       "      <td>57</td>\n",
       "      <td>57</td>\n",
       "      <td>57</td>\n",
       "    </tr>\n",
       "    <tr>\n",
       "      <th>True</th>\n",
       "      <td>341</td>\n",
       "      <td>341</td>\n",
       "      <td>341</td>\n",
       "      <td>341</td>\n",
       "      <td>341</td>\n",
       "      <td>341</td>\n",
       "      <td>341</td>\n",
       "    </tr>\n",
       "  </tbody>\n",
       "</table>\n",
       "</div>"
      ],
      "text/plain": [
       "        handle  mtkid  listed_status  real_status  follower_range  \\\n",
       "isReal                                                              \n",
       "-1          51     51             51            0               0   \n",
       "False       57     57             57           57              57   \n",
       "True       341    341            341          341             341   \n",
       "\n",
       "        actual_followers  tweet_count  \n",
       "isReal                                 \n",
       "-1                    51           51  \n",
       "False                 57           57  \n",
       "True                 341          341  "
      ]
     },
     "execution_count": 76,
     "metadata": {},
     "output_type": "execute_result"
    }
   ],
   "source": [
    "account_validation.groupby('isReal').count()"
   ]
  },
  {
   "cell_type": "code",
   "execution_count": 97,
   "metadata": {},
   "outputs": [
    {
     "data": {
      "image/png": "[encoded data removed]",
      "text/plain": [
       "<Figure size 432x288 with 1 Axes>"
      ]
     },
     "metadata": {
      "needs_background": "light"
     },
     "output_type": "display_data"
    }
   ],
   "source": [
    "NA = (2, 51, 0)\n",
    "private = (64,26,0)\n",
    "public = (409,398,0)\n",
    "yes = (0,0,341)\n",
    "no = (0,0,57)\n",
    "names = ['Given information','Actual information', 'Accurate Follower Range']\n",
    "\n",
    "bars = np.add(public, private).tolist()\n",
    "\n",
    "ind = np.arange(3) \n",
    "\n",
    "plt.bar(ind, public, color='#baffc9',width=0.5)\n",
    "plt.bar(ind, private, bottom=public, color='#bae1ff', width=0.5)\n",
    "plt.bar(ind, NA, bottom=bars, color='#ffb3ba', width=0.5)\n",
    "plt.bar(ind, yes, bottom=NA, color='#5cb85c', width=0.5)\n",
    "plt.bar(ind, no, bottom=yes, color='#d9534f', width=0.5)\n",
    "plt.xticks(ind, names)\n",
    "plt.title('Twitter Account Validation')\n",
    "\n",
    "plt.legend(('Public', 'Private', 'NA', 'Yes', 'No'), loc='lower left')\n",
    "\n",
    "plt.show()"
   ]
  },
  {
   "cell_type": "code",
   "execution_count": 29,
   "metadata": {},
   "outputs": [
    {
     "data": {
      "image/png": "[encoded data removed]",
      "text/plain": [
       "<Figure size 432x288 with 1 Axes>"
      ]
     },
     "metadata": {
      "needs_background": "light"
     },
     "output_type": "display_data"
    }
   ],
   "source": [
    "ax = sns.distplot(finalhandles[finalhandles['tweet_count'] < 200]['tweet_count'], kde=False)\n",
    "ax.set(title='Histogram of Tweets Across Twitter Accounts', xlabel='Number of Tweets', ylabel='Count (Twitter user)')\n",
    "plt.show()"
   ]
  },
  {
   "cell_type": "code",
   "execution_count": 4,
   "metadata": {},
   "outputs": [
    {
     "data": {
      "text/html": [
       "<div>\n",
       "<style scoped>\n",
       "    .dataframe tbody tr th:only-of-type {\n",
       "        vertical-align: middle;\n",
       "    }\n",
       "\n",
       "    .dataframe tbody tr th {\n",
       "        vertical-align: top;\n",
       "    }\n",
       "\n",
       "    .dataframe thead th {\n",
       "        text-align: right;\n",
       "    }\n",
       "</style>\n",
       "<table border=\"1\" class=\"dataframe\">\n",
       "  <thead>\n",
       "    <tr style=\"text-align: right;\">\n",
       "      <th></th>\n",
       "      <th>user_id</th>\n",
       "      <th>created_at</th>\n",
       "      <th>text</th>\n",
       "      <th>is_retweet</th>\n",
       "      <th>mtkid</th>\n",
       "    </tr>\n",
       "  </thead>\n",
       "  <tbody>\n",
       "    <tr>\n",
       "      <th>0</th>\n",
       "      <td>138613910</td>\n",
       "      <td>2013-12-21 18:45:29</td>\n",
       "      <td>tried adding  to my Tivo and have been inform...</td>\n",
       "      <td>False</td>\n",
       "      <td>A3L0DCUXI7X3A9</td>\n",
       "    </tr>\n",
       "    <tr>\n",
       "      <th>1</th>\n",
       "      <td>138613910</td>\n",
       "      <td>2011-12-28 23:32:53</td>\n",
       "      <td>Why are new DC comics no longer available in ...</td>\n",
       "      <td>False</td>\n",
       "      <td>A3L0DCUXI7X3A9</td>\n",
       "    </tr>\n",
       "    <tr>\n",
       "      <th>2</th>\n",
       "      <td>821070135951847432</td>\n",
       "      <td>2019-05-05 02:57:22</td>\n",
       "      <td></td>\n",
       "      <td>False</td>\n",
       "      <td>A3I40B0FATY8VH</td>\n",
       "    </tr>\n",
       "    <tr>\n",
       "      <th>3</th>\n",
       "      <td>821070135951847432</td>\n",
       "      <td>2019-05-05 01:17:50</td>\n",
       "      <td>I hope she sees this bro</td>\n",
       "      <td>False</td>\n",
       "      <td>A3I40B0FATY8VH</td>\n",
       "    </tr>\n",
       "    <tr>\n",
       "      <th>4</th>\n",
       "      <td>821070135951847432</td>\n",
       "      <td>2019-05-04 21:08:54</td>\n",
       "      <td>I wish she would Not because I want Trump go...</td>\n",
       "      <td>False</td>\n",
       "      <td>A3I40B0FATY8VH</td>\n",
       "    </tr>\n",
       "  </tbody>\n",
       "</table>\n",
       "</div>"
      ],
      "text/plain": [
       "              user_id           created_at  \\\n",
       "0           138613910  2013-12-21 18:45:29   \n",
       "1           138613910  2011-12-28 23:32:53   \n",
       "2  821070135951847432  2019-05-05 02:57:22   \n",
       "3  821070135951847432  2019-05-05 01:17:50   \n",
       "4  821070135951847432  2019-05-04 21:08:54   \n",
       "\n",
       "                                                text  is_retweet  \\\n",
       "0   tried adding  to my Tivo and have been inform...       False   \n",
       "1   Why are new DC comics no longer available in ...       False   \n",
       "2                                                          False   \n",
       "3                           I hope she sees this bro       False   \n",
       "4    I wish she would Not because I want Trump go...       False   \n",
       "\n",
       "            mtkid  \n",
       "0  A3L0DCUXI7X3A9  \n",
       "1  A3L0DCUXI7X3A9  \n",
       "2  A3I40B0FATY8VH  \n",
       "3  A3I40B0FATY8VH  \n",
       "4  A3I40B0FATY8VH  "
      ]
     },
     "execution_count": 4,
     "metadata": {},
     "output_type": "execute_result"
    }
   ],
   "source": [
    "tweets.head()"
   ]
  },
  {
   "cell_type": "code",
   "execution_count": 24,
   "metadata": {
    "collapsed": true
   },
   "outputs": [
    {
     "data": {
      "text/plain": [
       "array([          138613910,  821070135951847432,  788053610814803970,\n",
       "                 900197414,           107828943,           538550333,\n",
       "                  42113215,            70430703,            16107135,\n",
       "                 179356158,  987756705424576512,          3279807469,\n",
       "                  67292880,            16049403,            42236569,\n",
       "                  50374569,           243031077,            30144734,\n",
       "                 353998535,  849705553844723714,            25611070,\n",
       "        839245600759635968,          1265727595,            24274793,\n",
       "                  79011339,            26450767, 1003404873533214720,\n",
       "                 714684138,           868069182,          3306052407,\n",
       "                  61257254,            29651441,          4091239701,\n",
       "        879124964942544896,          2603911358,           109352348,\n",
       "                  18263374,           777064440,           307088405,\n",
       "                2437714868,           572762177,           869123348,\n",
       "                 171677964,  746740380444463104,           262522379,\n",
       "                4660374912,            36609176,           192619761,\n",
       "                 197492100,            27042632,           193454478,\n",
       "                2419509762,            27957790,          2457251005,\n",
       "                  11236912,          2416443530,  872253913818419203,\n",
       "                1305246744,          3234444895, 1095085304179052546,\n",
       "                 321845305,            26334121,           221132272,\n",
       "                   9186832,             1336941,            87544404,\n",
       "                  76256868,            16511183,           603616993,\n",
       "        912890473345413125,  955955841026334722,            22555372,\n",
       "                2651078922,          3356659209,          2751957334,\n",
       "                  39695010,           425638308,          1523522078,\n",
       "                 710188399,            23011289,           399876349,\n",
       "                4854712299,          1423819370,            89880820,\n",
       "                 444120881,          3600648615,  935688333354729472,\n",
       "                 547771710,          4559457192,           161432627,\n",
       "                2816195965,          3292369301,            54417942,\n",
       "                3367159281,  963135820503842816,            26985025,\n",
       "        801274545583820800,          2872967597,          3053679932,\n",
       "        907037774473199616,          1411005480,           172853609,\n",
       "                  17982331,          3160440357,          3364687330,\n",
       "       1015235756414009344,            74624716,          1439917538,\n",
       "                   4101771,            22723773,           230264074,\n",
       "                 336224329,  797022169373011968,          4851574778,\n",
       "                1102234206,          2597961138,            48986589,\n",
       "        897846333570240512,            93255779,            15520460,\n",
       "                 459896137,            69070229,          2497400886,\n",
       "                1727419098,           332623274,           551475111,\n",
       "                1240458756,          2728123545,            22719291,\n",
       "                 560521639,           305188982,          2483570047,\n",
       "                  14420481,  874461622261223424,           940362348,\n",
       "                 292082579,          2267024816,           585437391,\n",
       "                 334040477,            27188577,           617940126,\n",
       "                  14561884,           378962632,             3371561,\n",
       "                2923704667,            17838876,          4500165201,\n",
       "                1403828042,          1413950329,  734486860211228672,\n",
       "                2614096508,          1059333752,            46130085,\n",
       "                  45942340,            92900119,            15156383,\n",
       "                  27305591,          1508111629,           834014431,\n",
       "                  30535574,           498392131, 1107420108111007745,\n",
       "                3214003643,  727726682870788096,           316847865,\n",
       "       1082836166062325760,          2512871147,  838503753699348482,\n",
       "        849168245605244928,  704532256371527680,            76033193,\n",
       "                 151540402,            15302396,  974689844394946563,\n",
       "                 389794336,           606511514,           804940830,\n",
       "                 449172545,           258384081,          2924234608,\n",
       "        891388141575303168,           342175621,            99423015,\n",
       "                 199565939,            93634693,          2892915334,\n",
       "        828308358394310657,          1183882740,           772883976,\n",
       "                  23413783,           910781220,           346177455,\n",
       "                 508491890,           190805375,          2309374568,\n",
       "                3181106081, 1113966853183889413,          2337531590,\n",
       "        735260122918879232,           252988553,          1140267962,\n",
       "                1264743109,           108319012,          2334755905,\n",
       "                1271645972,              718123,          3264263564,\n",
       "                 171313265,           342434833,  832119381954068480,\n",
       "                 310402339,  708148687038447616,          2718442435,\n",
       "                  18235674,          3295953196,           414424278,\n",
       "                 342860204,          2372361066,           586147151,\n",
       "        985140869845127168,          2749853545,          3998923745,\n",
       "                 324481142,           905513269,            21817560,\n",
       "       1047233595159412737,           164487225,          3821710954,\n",
       "                  30088908,           451976049,           552475782,\n",
       "       1003346656622972928,          3311224986,           273636439,\n",
       "                  38813183,           386102578,  731989652882792449,\n",
       "                 372356363,           221485079,          1182255055,\n",
       "        944660175482511360,           170033129,          2522415570,\n",
       "                3146761171,            67736096,            42079706,\n",
       "        799452244517195778,          2966512331,           170070764,\n",
       "                2291380273,          2279480653,           227002002,\n",
       "                2545367152,            90923423,            16708330,\n",
       "                  25020752,  833797909523034112,  953796730721509376,\n",
       "                 227911482,            81268309,            75345391,\n",
       "                1093574917,           404554679,           155384783,\n",
       "                 423140280,            20074275,            50819638,\n",
       "        989350308588412928,          2765692961,           392292406,\n",
       "       1114245229979291649,            23155545,          2608846111,\n",
       "                 367781428, 1037497191860985862,            15087567,\n",
       "                2178762780])"
      ]
     },
     "execution_count": 24,
     "metadata": {},
     "output_type": "execute_result"
    }
   ],
   "source": [
    "tweets['user_id'].unique()"
   ]
  },
  {
   "cell_type": "code",
   "execution_count": 3,
   "metadata": {},
   "outputs": [],
   "source": [
    "def tokenize_text(token_dict, text):\n",
    "    line = re.sub(r\"([^\\x00-\\x7f])|([^A-Za-z0-9'])\",r' ',text)\n",
    "    line = line.lower()\n",
    "    for token in line.split():\n",
    "        token_dict[token] += 1\n",
    "    return token_dict"
   ]
  },
  {
   "cell_type": "code",
   "execution_count": 4,
   "metadata": {},
   "outputs": [],
   "source": [
    "def getTokens():\n",
    "    user_tokens = []\n",
    "    colnames = ['user_id', 'tokenDict', 'numTokens']\n",
    "    for user_id in tweets['user_id'].unique():\n",
    "        tokens = defaultdict(int)\n",
    "        for index, row in tweets[tweets['user_id'] == user_id].iterrows():\n",
    "            tokens = tokenize_text(tokens, str(row['text']))\n",
    "        user_tokens.append([user_id, sorted(tokens.items(), key=lambda k_v: k_v[1], reverse=True), \n",
    "                            len(tokens)])\n",
    "    return pd.DataFrame(user_tokens, columns = colnames)"
   ]
  },
  {
   "cell_type": "code",
   "execution_count": 5,
   "metadata": {},
   "outputs": [],
   "source": [
    "tokens = getTokens()"
   ]
  },
  {
   "cell_type": "code",
   "execution_count": 42,
   "metadata": {},
   "outputs": [
    {
     "data": {
      "image/png": "[encoded data removed]",
      "text/plain": [
       "<Figure size 432x288 with 1 Axes>"
      ]
     },
     "metadata": {
      "needs_background": "light"
     },
     "output_type": "display_data"
    }
   ],
   "source": [
    "ax = sns.distplot(tokens['numTokens'], kde=False)\n",
    "ax.set(title='Histogram of Tokens Across Twitter Accounts', xlabel='Number of Tokens', ylabel='Count (Twitter user)')\n",
    "plt.axvline(500, color='red')\n",
    "plt.text(x=500,y=120,s='500\\ntokens', fontsize=10)\n",
    "plt.show()"
   ]
  },
  {
   "cell_type": "code",
   "execution_count": 44,
   "metadata": {},
   "outputs": [
    {
     "data": {
      "text/html": [
       "<div>\n",
       "<style scoped>\n",
       "    .dataframe tbody tr th:only-of-type {\n",
       "        vertical-align: middle;\n",
       "    }\n",
       "\n",
       "    .dataframe tbody tr th {\n",
       "        vertical-align: top;\n",
       "    }\n",
       "\n",
       "    .dataframe thead th {\n",
       "        text-align: right;\n",
       "    }\n",
       "</style>\n",
       "<table border=\"1\" class=\"dataframe\">\n",
       "  <thead>\n",
       "    <tr style=\"text-align: right;\">\n",
       "      <th></th>\n",
       "      <th>mtkid</th>\n",
       "      <th>Harm</th>\n",
       "      <th>Fairness</th>\n",
       "      <th>Loyalty</th>\n",
       "      <th>Authority</th>\n",
       "      <th>Purity</th>\n",
       "      <th>ICS_score</th>\n",
       "    </tr>\n",
       "  </thead>\n",
       "  <tbody>\n",
       "    <tr>\n",
       "      <th>0</th>\n",
       "      <td>A3L0DCUXI7X3A9</td>\n",
       "      <td>18</td>\n",
       "      <td>17</td>\n",
       "      <td>12</td>\n",
       "      <td>20</td>\n",
       "      <td>19</td>\n",
       "      <td>6</td>\n",
       "    </tr>\n",
       "    <tr>\n",
       "      <th>1</th>\n",
       "      <td>A3I40B0FATY8VH</td>\n",
       "      <td>21</td>\n",
       "      <td>24</td>\n",
       "      <td>24</td>\n",
       "      <td>15</td>\n",
       "      <td>3</td>\n",
       "      <td>8</td>\n",
       "    </tr>\n",
       "    <tr>\n",
       "      <th>2</th>\n",
       "      <td>A2MCRVU8I9VNHG</td>\n",
       "      <td>17</td>\n",
       "      <td>22</td>\n",
       "      <td>11</td>\n",
       "      <td>16</td>\n",
       "      <td>22</td>\n",
       "      <td>8</td>\n",
       "    </tr>\n",
       "    <tr>\n",
       "      <th>3</th>\n",
       "      <td>A1PJUYJ7W2LKKQ</td>\n",
       "      <td>24</td>\n",
       "      <td>24</td>\n",
       "      <td>10</td>\n",
       "      <td>17</td>\n",
       "      <td>9</td>\n",
       "      <td>-4</td>\n",
       "    </tr>\n",
       "    <tr>\n",
       "      <th>4</th>\n",
       "      <td>A1KZ21TSAYUHO4</td>\n",
       "      <td>25</td>\n",
       "      <td>29</td>\n",
       "      <td>16</td>\n",
       "      <td>19</td>\n",
       "      <td>29</td>\n",
       "      <td>4</td>\n",
       "    </tr>\n",
       "  </tbody>\n",
       "</table>\n",
       "</div>"
      ],
      "text/plain": [
       "            mtkid  Harm  Fairness  Loyalty  Authority  Purity  ICS_score\n",
       "0  A3L0DCUXI7X3A9    18        17       12         20      19          6\n",
       "1  A3I40B0FATY8VH    21        24       24         15       3          8\n",
       "2  A2MCRVU8I9VNHG    17        22       11         16      22          8\n",
       "3  A1PJUYJ7W2LKKQ    24        24       10         17       9         -4\n",
       "4  A1KZ21TSAYUHO4    25        29       16         19      29          4"
      ]
     },
     "execution_count": 44,
     "metadata": {},
     "output_type": "execute_result"
    }
   ],
   "source": [
    "scores.head()"
   ]
  },
  {
   "cell_type": "code",
   "execution_count": 46,
   "metadata": {},
   "outputs": [
    {
     "data": {
      "image/png": "[encoded data removed]",
      "text/plain": [
       "<Figure size 432x288 with 1 Axes>"
      ]
     },
     "metadata": {
      "needs_background": "light"
     },
     "output_type": "display_data"
    }
   ],
   "source": [
    "ax = sns.distplot(scores['Harm'], kde=False)\n",
    "ax.set(title='Distribution of Total Scores for Harm/Care Trait', xlabel='Total Score', ylabel='Count (Twitter user)')\n",
    "plt.axvline(20.2, color='red')\n",
    "plt.text(x=20.5,y=40,s='Politically moderate:\\n20.2', fontsize=10)\n",
    "plt.show()"
   ]
  },
  {
   "cell_type": "code",
   "execution_count": 47,
   "metadata": {},
   "outputs": [
    {
     "data": {
      "image/png": "[encoded data removed]",
      "text/plain": [
       "<Figure size 432x288 with 1 Axes>"
      ]
     },
     "metadata": {
      "needs_background": "light"
     },
     "output_type": "display_data"
    }
   ],
   "source": [
    "ax = sns.distplot(scores['Fairness'], kde=False)\n",
    "ax.set(title='Distribution of Total Scores for Fairness/Reciprocity Trait', \n",
    "       xlabel='Total Score', ylabel='Count (Twitter user)')\n",
    "plt.axvline(20.5, color='red')\n",
    "plt.text(x=21,y=40,s='Politically moderate:\\n20.5', fontsize=10)\n",
    "plt.show()"
   ]
  },
  {
   "cell_type": "code",
   "execution_count": 48,
   "metadata": {},
   "outputs": [
    {
     "data": {
      "image/png": "[encoded data removed]",
      "text/plain": [
       "<Figure size 432x288 with 1 Axes>"
      ]
     },
     "metadata": {
      "needs_background": "light"
     },
     "output_type": "display_data"
    }
   ],
   "source": [
    "ax = sns.distplot(scores['Loyalty'], kde=False)\n",
    "ax.set(title='Distribution of Total Scores for In-group/Loyalty Trait', \n",
    "       xlabel='Total Score', ylabel='Count (Twitter user)')\n",
    "plt.axvline(16, color='red')\n",
    "plt.text(x=16.5,y=40,s='Politically moderate:\\n16', fontsize=10)\n",
    "plt.show()"
   ]
  },
  {
   "cell_type": "code",
   "execution_count": 49,
   "metadata": {},
   "outputs": [
    {
     "data": {
      "image/png": "[encoded data removed]",
      "text/plain": [
       "<Figure size 432x288 with 1 Axes>"
      ]
     },
     "metadata": {
      "needs_background": "light"
     },
     "output_type": "display_data"
    }
   ],
   "source": [
    "ax = sns.distplot(scores['Authority'], kde=False)\n",
    "ax.set(title='Distribution of Total Scores for Authority/Respect Trait', \n",
    "       xlabel='Total Score', ylabel='Count (Twitter user)')\n",
    "plt.axvline(16.5, color='red')\n",
    "plt.text(x=17,y=40,s='Politically moderate:\\n16.5', fontsize=10)\n",
    "plt.show()"
   ]
  },
  {
   "cell_type": "code",
   "execution_count": 50,
   "metadata": {},
   "outputs": [
    {
     "data": {
      "image/png": "[encoded data removed]",
      "text/plain": [
       "<Figure size 432x288 with 1 Axes>"
      ]
     },
     "metadata": {
      "needs_background": "light"
     },
     "output_type": "display_data"
    }
   ],
   "source": [
    "ax = sns.distplot(scores['Purity'], kde=False)\n",
    "ax.set(title='Distribution of Total Scores for Purity/Sanctity Trait', \n",
    "       xlabel='Total Score', ylabel='Count (Twitter user)')\n",
    "plt.axvline(12.6, color='red')\n",
    "plt.text(x=13.1,y=40,s='Politically moderate:\\n12.6', fontsize=10)\n",
    "plt.show()"
   ]
  },
  {
   "cell_type": "code",
   "execution_count": 46,
   "metadata": {},
   "outputs": [],
   "source": [
    "mft_only = scores.drop(columns=['mtkid', 'ICS_score'])"
   ]
  },
  {
   "cell_type": "code",
   "execution_count": 49,
   "metadata": {},
   "outputs": [],
   "source": [
    "mft_corr = mft_only.corr()"
   ]
  },
  {
   "cell_type": "code",
   "execution_count": 56,
   "metadata": {},
   "outputs": [
    {
     "data": {
      "text/html": [
       "<div>\n",
       "<style scoped>\n",
       "    .dataframe tbody tr th:only-of-type {\n",
       "        vertical-align: middle;\n",
       "    }\n",
       "\n",
       "    .dataframe tbody tr th {\n",
       "        vertical-align: top;\n",
       "    }\n",
       "\n",
       "    .dataframe thead th {\n",
       "        text-align: right;\n",
       "    }\n",
       "</style>\n",
       "<table border=\"1\" class=\"dataframe\">\n",
       "  <thead>\n",
       "    <tr style=\"text-align: right;\">\n",
       "      <th></th>\n",
       "      <th>Harm</th>\n",
       "      <th>Fairness</th>\n",
       "      <th>Loyalty</th>\n",
       "      <th>Authority</th>\n",
       "      <th>Purity</th>\n",
       "    </tr>\n",
       "  </thead>\n",
       "  <tbody>\n",
       "    <tr>\n",
       "      <th>Harm</th>\n",
       "      <td>1.000000</td>\n",
       "      <td>0.562782</td>\n",
       "      <td>0.124333</td>\n",
       "      <td>0.098889</td>\n",
       "      <td>0.185984</td>\n",
       "    </tr>\n",
       "    <tr>\n",
       "      <th>Fairness</th>\n",
       "      <td>0.562782</td>\n",
       "      <td>1.000000</td>\n",
       "      <td>-0.131598</td>\n",
       "      <td>-0.143467</td>\n",
       "      <td>-0.105537</td>\n",
       "    </tr>\n",
       "    <tr>\n",
       "      <th>Loyalty</th>\n",
       "      <td>0.124333</td>\n",
       "      <td>-0.131598</td>\n",
       "      <td>1.000000</td>\n",
       "      <td>0.771424</td>\n",
       "      <td>0.649790</td>\n",
       "    </tr>\n",
       "    <tr>\n",
       "      <th>Authority</th>\n",
       "      <td>0.098889</td>\n",
       "      <td>-0.143467</td>\n",
       "      <td>0.771424</td>\n",
       "      <td>1.000000</td>\n",
       "      <td>0.744301</td>\n",
       "    </tr>\n",
       "    <tr>\n",
       "      <th>Purity</th>\n",
       "      <td>0.185984</td>\n",
       "      <td>-0.105537</td>\n",
       "      <td>0.649790</td>\n",
       "      <td>0.744301</td>\n",
       "      <td>1.000000</td>\n",
       "    </tr>\n",
       "  </tbody>\n",
       "</table>\n",
       "</div>"
      ],
      "text/plain": [
       "               Harm  Fairness   Loyalty  Authority    Purity\n",
       "Harm       1.000000  0.562782  0.124333   0.098889  0.185984\n",
       "Fairness   0.562782  1.000000 -0.131598  -0.143467 -0.105537\n",
       "Loyalty    0.124333 -0.131598  1.000000   0.771424  0.649790\n",
       "Authority  0.098889 -0.143467  0.771424   1.000000  0.744301\n",
       "Purity     0.185984 -0.105537  0.649790   0.744301  1.000000"
      ]
     },
     "execution_count": 56,
     "metadata": {},
     "output_type": "execute_result"
    }
   ],
   "source": [
    "mft_corr"
   ]
  },
  {
   "cell_type": "code",
   "execution_count": 77,
   "metadata": {},
   "outputs": [
    {
     "data": {
      "image/png": "[encoded data removed]",
      "text/plain": [
       "<Figure size 432x288 with 2 Axes>"
      ]
     },
     "metadata": {
      "needs_background": "light"
     },
     "output_type": "display_data"
    }
   ],
   "source": [
    "ax = sns.heatmap(mft_corr)\n",
    "plt.text(x=3.05,y=2.5,s='0.771424', fontsize=10)\n",
    "plt.text(x=2.05,y=1.5,s='-0.131598', fontsize=10, color='white')\n",
    "plt.text(x=3.05,y=1.5,s='-0.143467', fontsize=10, color='white')\n",
    "plt.text(x=4.05,y=1.5,s='-0.105537', fontsize=10, color='white')\n",
    "plt.text(x=4.05,y=3.5,s='0.744301', fontsize=10)\n",
    "ax.set(title='Correlation Matrix, MFT Scores')\n",
    "plt.show()"
   ]
  },
  {
   "cell_type": "code",
   "execution_count": 67,
   "metadata": {},
   "outputs": [],
   "source": [
    "score_noid = scores.drop(columns=['mtkid'])"
   ]
  },
  {
   "cell_type": "code",
   "execution_count": 68,
   "metadata": {},
   "outputs": [],
   "source": [
    "score_corr = score_noid.corr()"
   ]
  },
  {
   "cell_type": "code",
   "execution_count": 69,
   "metadata": {},
   "outputs": [
    {
     "data": {
      "text/html": [
       "<div>\n",
       "<style scoped>\n",
       "    .dataframe tbody tr th:only-of-type {\n",
       "        vertical-align: middle;\n",
       "    }\n",
       "\n",
       "    .dataframe tbody tr th {\n",
       "        vertical-align: top;\n",
       "    }\n",
       "\n",
       "    .dataframe thead th {\n",
       "        text-align: right;\n",
       "    }\n",
       "</style>\n",
       "<table border=\"1\" class=\"dataframe\">\n",
       "  <thead>\n",
       "    <tr style=\"text-align: right;\">\n",
       "      <th></th>\n",
       "      <th>Harm</th>\n",
       "      <th>Fairness</th>\n",
       "      <th>Loyalty</th>\n",
       "      <th>Authority</th>\n",
       "      <th>Purity</th>\n",
       "      <th>ICS_score</th>\n",
       "    </tr>\n",
       "  </thead>\n",
       "  <tbody>\n",
       "    <tr>\n",
       "      <th>Harm</th>\n",
       "      <td>1.000000</td>\n",
       "      <td>0.562782</td>\n",
       "      <td>0.124333</td>\n",
       "      <td>0.098889</td>\n",
       "      <td>0.185984</td>\n",
       "      <td>-0.277896</td>\n",
       "    </tr>\n",
       "    <tr>\n",
       "      <th>Fairness</th>\n",
       "      <td>0.562782</td>\n",
       "      <td>1.000000</td>\n",
       "      <td>-0.131598</td>\n",
       "      <td>-0.143467</td>\n",
       "      <td>-0.105537</td>\n",
       "      <td>-0.472064</td>\n",
       "    </tr>\n",
       "    <tr>\n",
       "      <th>Loyalty</th>\n",
       "      <td>0.124333</td>\n",
       "      <td>-0.131598</td>\n",
       "      <td>1.000000</td>\n",
       "      <td>0.771424</td>\n",
       "      <td>0.649790</td>\n",
       "      <td>0.464286</td>\n",
       "    </tr>\n",
       "    <tr>\n",
       "      <th>Authority</th>\n",
       "      <td>0.098889</td>\n",
       "      <td>-0.143467</td>\n",
       "      <td>0.771424</td>\n",
       "      <td>1.000000</td>\n",
       "      <td>0.744301</td>\n",
       "      <td>0.469643</td>\n",
       "    </tr>\n",
       "    <tr>\n",
       "      <th>Purity</th>\n",
       "      <td>0.185984</td>\n",
       "      <td>-0.105537</td>\n",
       "      <td>0.649790</td>\n",
       "      <td>0.744301</td>\n",
       "      <td>1.000000</td>\n",
       "      <td>0.438083</td>\n",
       "    </tr>\n",
       "    <tr>\n",
       "      <th>ICS_score</th>\n",
       "      <td>-0.277896</td>\n",
       "      <td>-0.472064</td>\n",
       "      <td>0.464286</td>\n",
       "      <td>0.469643</td>\n",
       "      <td>0.438083</td>\n",
       "      <td>1.000000</td>\n",
       "    </tr>\n",
       "  </tbody>\n",
       "</table>\n",
       "</div>"
      ],
      "text/plain": [
       "               Harm  Fairness   Loyalty  Authority    Purity  ICS_score\n",
       "Harm       1.000000  0.562782  0.124333   0.098889  0.185984  -0.277896\n",
       "Fairness   0.562782  1.000000 -0.131598  -0.143467 -0.105537  -0.472064\n",
       "Loyalty    0.124333 -0.131598  1.000000   0.771424  0.649790   0.464286\n",
       "Authority  0.098889 -0.143467  0.771424   1.000000  0.744301   0.469643\n",
       "Purity     0.185984 -0.105537  0.649790   0.744301  1.000000   0.438083\n",
       "ICS_score -0.277896 -0.472064  0.464286   0.469643  0.438083   1.000000"
      ]
     },
     "execution_count": 69,
     "metadata": {},
     "output_type": "execute_result"
    }
   ],
   "source": [
    "score_corr"
   ]
  },
  {
   "cell_type": "code",
   "execution_count": 78,
   "metadata": {},
   "outputs": [
    {
     "data": {
      "image/png": "[encoded data removed]",
      "text/plain": [
       "<Figure size 432x288 with 2 Axes>"
      ]
     },
     "metadata": {
      "needs_background": "light"
     },
     "output_type": "display_data"
    }
   ],
   "source": [
    "ax = sns.heatmap(score_corr)\n",
    "plt.text(x=5.05,y=1.5,s='-0.472064', fontsize=8, color='white')\n",
    "plt.text(x=5.05,y=3.5,s='0.469643', fontsize=8)\n",
    "ax.set(title='Correlation Matrix, MFT and Ideology Scores')\n",
    "plt.show()"
   ]
  },
  {
   "cell_type": "code",
   "execution_count": 85,
   "metadata": {},
   "outputs": [
    {
     "data": {
      "image/png": "[encoded data removed]",
      "text/plain": [
       "<Figure size 432x288 with 1 Axes>"
      ]
     },
     "metadata": {
      "needs_background": "light"
     },
     "output_type": "display_data"
    }
   ],
   "source": [
    "ax = sns.distplot(scores['ICS_score'], kde=False)\n",
    "ax.set(title='Histogram of Political Ideology Score', xlabel='Ideology Score', ylabel='Count (Twitter user)')\n",
    "plt.show()"
   ]
  },
  {
   "cell_type": "code",
   "execution_count": 101,
   "metadata": {},
   "outputs": [
    {
     "data": {
      "image/png": "[encoded data removed]",
      "text/plain": [
       "<Figure size 432x288 with 1 Axes>"
      ]
     },
     "metadata": {
      "needs_background": "light"
     },
     "output_type": "display_data"
    }
   ],
   "source": [
    "ax = sns.distplot(scores['Political Involvement'], kde=False)\n",
    "ax.set(title='Political, Economic, and/or Social Involvement on Twitter', \n",
    "       xlabel='Sentiment (1-7)', ylabel='Count (Twitter user)')\n",
    "plt.show()"
   ]
  },
  {
   "cell_type": "code",
   "execution_count": null,
   "metadata": {},
   "outputs": [],
   "source": []
  }
 ],
 "metadata": {
  "kernelspec": {
   "display_name": "Python 3",
   "language": "python",
   "name": "python3"
  },
  "language_info": {
   "codemirror_mode": {
    "name": "ipython",
    "version": 3
   },
   "file_extension": ".py",
   "mimetype": "text/x-python",
   "name": "python",
   "nbconvert_exporter": "python",
   "pygments_lexer": "ipython3",
   "version": "3.6.8"
  }
 },
 "nbformat": 4,
 "nbformat_minor": 2
}
