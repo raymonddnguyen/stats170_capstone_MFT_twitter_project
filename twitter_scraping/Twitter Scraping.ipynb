{
 "cells": [
  {
   "cell_type": "code",
   "execution_count": 1,
   "metadata": {},
   "outputs": [],
   "source": [
    "import pandas as pd\n",
    "import tweepy\n",
    "import config\n",
    "import re"
   ]
  },
  {
   "cell_type": "code",
   "execution_count": null,
   "metadata": {},
   "outputs": [],
   "source": [
    "auth = tweepy.OAuthHandler(config.CONSUMER_KEY, config.CONSUMER_SECRET)\n",
    "auth.set_access_token(config.ACCESS_KEY, config.ACCESS_SECRET)\n",
    "\n",
    "api = tweepy.API(auth)"
   ]
  },
  {
   "cell_type": "code",
   "execution_count": 138,
   "metadata": {},
   "outputs": [],
   "source": [
    "colnames = ['user_id', 'created_at', 'text', 'is_retweet', 'mtkid']\n",
    "twitterdata = pd.DataFrame(columns=colnames)"
   ]
  },
  {
   "cell_type": "code",
   "execution_count": 139,
   "metadata": {},
   "outputs": [
    {
     "data": {
      "text/html": [
       "<div>\n",
       "<style scoped>\n",
       "    .dataframe tbody tr th:only-of-type {\n",
       "        vertical-align: middle;\n",
       "    }\n",
       "\n",
       "    .dataframe tbody tr th {\n",
       "        vertical-align: top;\n",
       "    }\n",
       "\n",
       "    .dataframe thead th {\n",
       "        text-align: right;\n",
       "    }\n",
       "</style>\n",
       "<table border=\"1\" class=\"dataframe\">\n",
       "  <thead>\n",
       "    <tr style=\"text-align: right;\">\n",
       "      <th></th>\n",
       "      <th>user_id</th>\n",
       "      <th>created_at</th>\n",
       "      <th>text</th>\n",
       "      <th>is_retweet</th>\n",
       "      <th>mtkid</th>\n",
       "    </tr>\n",
       "  </thead>\n",
       "  <tbody>\n",
       "  </tbody>\n",
       "</table>\n",
       "</div>"
      ],
      "text/plain": [
       "Empty DataFrame\n",
       "Columns: [user_id, created_at, text, is_retweet, mtkid]\n",
       "Index: []"
      ]
     },
     "execution_count": 139,
     "metadata": {},
     "output_type": "execute_result"
    }
   ],
   "source": [
    "twitterdata"
   ]
  },
  {
   "cell_type": "markdown",
   "metadata": {},
   "source": [
    "#### Function to get tweets (no retweets)"
   ]
  },
  {
   "cell_type": "code",
   "execution_count": 127,
   "metadata": {},
   "outputs": [],
   "source": [
    "def get_twitter_data_norts(handle, mtkid, colnames):\n",
    "    tweets = []\n",
    "    for tweet in tweepy.Cursor(api.user_timeline, screen_name=handle, \n",
    "                           include_rts = False,\n",
    "                           tweet_mode = 'extended',\n",
    "                           wait_on_rate_limit = True,\n",
    "                           wait_on_rate_limit_notify = True,\n",
    "                           ).items():\n",
    "        tweets.append(tweet)\n",
    "    data = []\n",
    "    for tweet in tweets:\n",
    "        tweet_data = []\n",
    "        tweet_data.append(tweet.user.id)\n",
    "        tweet_data.append(tweet.created_at)\n",
    "        tweet_data.append(re.sub('(&amp)|(@[^\\s]+)|(#[^\\s]+)|([^0-9A-Za-z \\t])|(\\w+:\\/\\/\\S+)','', tweet.full_text))\n",
    "        try:\n",
    "            tweet.retweeted_status\n",
    "        except:\n",
    "            tweet_data.append(False)\n",
    "        else:\n",
    "            tweet_data.append(True)\n",
    "        tweet_data.append(mtkid)\n",
    "        data.append(tweet_data)\n",
    "    return pd.DataFrame(data,columns=colnames)"
   ]
  },
  {
   "cell_type": "markdown",
   "metadata": {},
   "source": [
    "#### Function to get tweets (with retweets)"
   ]
  },
  {
   "cell_type": "code",
   "execution_count": 128,
   "metadata": {},
   "outputs": [],
   "source": [
    "def get_twitter_data_norts(handle, mtkid, colnames):\n",
    "    tweets = []\n",
    "    for tweet in tweepy.Cursor(api.user_timeline, screen_name=handle, \n",
    "                           include_rts = False,\n",
    "                           tweet_mode = 'extended',\n",
    "                           wait_on_rate_limit = True,\n",
    "                           wait_on_rate_limit_notify = True,\n",
    "                           ).items():\n",
    "        tweets.append(tweet)\n",
    "    data = []\n",
    "    for tweet in tweets:\n",
    "        tweet_data = []\n",
    "        tweet_data.append(tweet.user.id)\n",
    "        tweet_data.append(tweet.created_at)\n",
    "        tweet_data.append(re.sub('(&amp)|(RT)|(@[^\\s]+)|(#[^\\s]+)|([^0-9A-Za-z \\t])|(\\w+:\\/\\/\\S+)','', tweet.full_text))\n",
    "        try:\n",
    "            tweet.retweeted_status\n",
    "        except:\n",
    "            tweet_data.append(False)\n",
    "        else:\n",
    "            tweet_data.append(True)\n",
    "        tweet_data.append(mtkid)\n",
    "        data.append(tweet_data)\n",
    "    return pd.DataFrame(data,columns=colnames)"
   ]
  },
  {
   "cell_type": "code",
   "execution_count": null,
   "metadata": {},
   "outputs": [],
   "source": [
    "table = pd.read_csv()"
   ]
  },
  {
   "cell_type": "markdown",
   "metadata": {},
   "source": [
    "### iterates over all rows in survey table, gets all tweets (no retweets) for all respondents"
   ]
  },
  {
   "cell_type": "code",
   "execution_count": null,
   "metadata": {},
   "outputs": [],
   "source": [
    "for index, row in table.iterrows():\n",
    "    twitterdata = twitterdata.append(get_twitter_data_norts(row['handle'], row['mtkid'], colnames))"
   ]
  },
  {
   "cell_type": "markdown",
   "metadata": {},
   "source": [
    "### sample using trump"
   ]
  },
  {
   "cell_type": "code",
   "execution_count": 140,
   "metadata": {},
   "outputs": [],
   "source": [
    "twitterdata = twitterdata.append(get_twitter_data_norts('realDonaldTrump', 0, colnames))"
   ]
  },
  {
   "cell_type": "code",
   "execution_count": 145,
   "metadata": {},
   "outputs": [],
   "source": [
    "twitterdata.to_csv('sample.csv', encoding='utf-8', index=False)"
   ]
  }
 ],
 "metadata": {
  "kernelspec": {
   "display_name": "Python 3",
   "language": "python",
   "name": "python3"
  },
  "language_info": {
   "codemirror_mode": {
    "name": "ipython",
    "version": 3
   },
   "file_extension": ".py",
   "mimetype": "text/x-python",
   "name": "python",
   "nbconvert_exporter": "python",
   "pygments_lexer": "ipython3",
   "version": "3.6.8"
  }
 },
 "nbformat": 4,
 "nbformat_minor": 2
}
